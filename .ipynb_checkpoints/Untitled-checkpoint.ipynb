{
 "cells": [
  {
   "cell_type": "code",
   "execution_count": 31,
   "metadata": {},
   "outputs": [],
   "source": [
    "from selenium import webdriver\n",
    "\n",
    "import time\n",
    "\n",
    "from PIL import Image\n",
    "\n",
    "Name = '612301199008110917'\n",
    "password = '19900811'\n"
   ]
  },
  {
   "cell_type": "code",
   "execution_count": 37,
   "metadata": {},
   "outputs": [],
   "source": [
    "browser = webdriver.Chrome()\n",
    "browser.implicitly_wait(30)\n",
    "browser.get('http://jxjy01.xidian.edu.cn/newLogin.jsp?param=student')\n",
    "\n",
    "browser.maximize_window()"
   ]
  },
  {
   "cell_type": "code",
   "execution_count": 38,
   "metadata": {},
   "outputs": [],
   "source": [
    "browser.find_element_by_id(\"loginId1\").send_keys(Name)\n",
    "browser.find_element_by_id(\"passwd1\").send_keys(password)\n"
   ]
  },
  {
   "cell_type": "code",
   "execution_count": 39,
   "metadata": {},
   "outputs": [
    {
     "name": "stdout",
     "output_type": "stream",
     "text": [
      "{'x': 889, 'y': 425}\n"
     ]
    }
   ],
   "source": [
    "\n",
    "imgelement = browser.find_element_by_id('img_data1')  # 定位验证码\n",
    "location = imgelement.location  # 获取验证码x,y轴坐标\n",
    "print(location)\n"
   ]
  },
  {
   "cell_type": "code",
   "execution_count": 40,
   "metadata": {},
   "outputs": [
    {
     "name": "stdout",
     "output_type": "stream",
     "text": [
      "{'height': 35, 'width': 80}\n"
     ]
    }
   ],
   "source": [
    "size = imgelement.size  # 获取验证码的长宽\n",
    "print(size)\n"
   ]
  },
  {
   "cell_type": "code",
   "execution_count": 41,
   "metadata": {},
   "outputs": [],
   "source": [
    "rangle = (int(location['x']+110), int(location['y']+60), int(location['x'] + size['width']+165),\n",
    "          int(location['y'] + size['height']+90))  # 写成我们需要截取的位置坐标\n",
    "\n"
   ]
  },
  {
   "cell_type": "code",
   "execution_count": 42,
   "metadata": {},
   "outputs": [
    {
     "name": "stdout",
     "output_type": "stream",
     "text": [
      "True：截图成功！！！\n",
      "1\n"
     ]
    }
   ],
   "source": [
    "browser.maximize_window()\n",
    "time.sleep(2)\n",
    "try:\n",
    "    picture_url=browser.get_screenshot_as_file('baidu.png')\n",
    "    print(\"%s：截图成功！！！\" % picture_url)\n",
    "except BaseException as msg:\n",
    "    print(msg)\n",
    "    \n",
    "time.sleep(20)\n",
    "\n",
    "print(1)\n"
   ]
  },
  {
   "cell_type": "code",
   "execution_count": 43,
   "metadata": {},
   "outputs": [],
   "source": [
    "\n",
    "xPiont = imgelement.location['x']\n",
    "yPiont = imgelement.location['y']\n",
    "\n",
    "element_width = xPiont + imgelement.size['width']\n",
    "element_height = yPiont + imgelement.size['height']\n",
    "picture = Image.open('baidu.png')\n",
    "picture = picture.crop((xPiont, yPiont, element_width, element_height))\n",
    "picture.save(\"baidu.png\")\n",
    "\n"
   ]
  },
  {
   "cell_type": "code",
   "execution_count": null,
   "metadata": {},
   "outputs": [],
   "source": []
  }
 ],
 "metadata": {
  "kernelspec": {
   "display_name": "Python 3",
   "language": "python",
   "name": "python3"
  },
  "language_info": {
   "codemirror_mode": {
    "name": "ipython",
    "version": 3
   },
   "file_extension": ".py",
   "mimetype": "text/x-python",
   "name": "python",
   "nbconvert_exporter": "python",
   "pygments_lexer": "ipython3",
   "version": "3.8.3"
  }
 },
 "nbformat": 4,
 "nbformat_minor": 4
}
